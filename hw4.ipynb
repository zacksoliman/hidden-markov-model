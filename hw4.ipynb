{
 "cells": [
  {
   "cell_type": "markdown",
   "metadata": {},
   "source": [
    "# Implementation: Hidden Markov Model"
   ]
  },
  {
   "cell_type": "code",
   "execution_count": 1,
   "metadata": {
    "collapsed": false
   },
   "outputs": [],
   "source": [
    "from __future__ import division\n",
    "import numpy as np\n",
    "import matplotlib.pyplot as plt\n",
    "from scipy.stats import multivariate_normal as mv_normal\n",
    "from scipy.misc import logsumexp\n",
    "import matplotlib.mlab as mlab\n",
    "from scipy.stats import chi2\n",
    "from matplotlib.patches import Ellipse"
   ]
  },
  {
   "cell_type": "markdown",
   "metadata": {},
   "source": [
    "We start off by loading the training data:"
   ]
  },
  {
   "cell_type": "code",
   "execution_count": 2,
   "metadata": {
    "collapsed": false
   },
   "outputs": [],
   "source": [
    "train_data = np.loadtxt('data/EMGaussian.train')\n",
    "test_data = np.loadtxt('data/EMGaussian.test')"
   ]
  },
  {
   "cell_type": "markdown",
   "metadata": {},
   "source": [
    "We will define a helper function that will help us compute the Gaussian pdf. This method will be used to plot the contours as well."
   ]
  },
  {
   "cell_type": "code",
   "execution_count": 3,
   "metadata": {
    "collapsed": true
   },
   "outputs": [],
   "source": [
    "def mv_gauss(X, Y, mu, cov):\n",
    "    sigma_x = np.sqrt(cov[0,0])\n",
    "    sigma_y = np.sqrt(cov[1,1])\n",
    "    sigma_xy = np.sqrt(cov[0,1])\n",
    "    \n",
    "    mu_x = mu[0]\n",
    "    mu_y = mu[1]\n",
    "    \n",
    "    return mlab.bivariate_normal(X, Y, sigma_x, sigma_y, mu_x, mu_y, sigma_xy)\n",
    "\n",
    "def mv_gauss_state(data, state_means, state_covs):\n",
    "    \n",
    "    prob_by_state = []\n",
    "    \n",
    "    for mu, sigma in zip(state_means, state_covs):\n",
    "        prob_by_state.append(mv_normal.pdf(x=data, cov=sigma, mean=mu))\n",
    "    return np.column_stack(prob_by_state)"
   ]
  },
  {
   "cell_type": "markdown",
   "metadata": {},
   "source": [
    "# Implementation of the $\\alpha$ and $\\beta$ recursions"
   ]
  },
  {
   "cell_type": "markdown",
   "metadata": {},
   "source": [
    "We start by implementing the alpha-beta recursion. We will be using the log-sum-exp trick to avoid underflows. Thus we will compute:\n",
    "\n",
    "$\\log(\\alpha_t(z_t)) = \\log \\bigg( \\sum_{z_t} \\exp \\bigg(\\log p(x_t | z_t) + \\log p(z_t | z_{t-1}) + \\log \\alpha_{t-1}(z_{t-1}) \\bigg) \\bigg)$\n",
    "\n",
    "Which can be rewritten as:\n",
    "\n",
    "$\\log(\\alpha_t(z_t)) = \\log \\bigg( \\sum_{z_t} \\exp \\{a_{z_t}\\} \\bigg)$\n",
    "\n",
    "Where,\n",
    "\n",
    "$a_{z_t} = \\log p(x_t | z_t) + \\log p(z_t | z_{t-1}) + \\log \\alpha_{t-1}(z_{t-1})$\n",
    "\n",
    "Notice that $a_{z_t}$ is a negative number with a large magnitude so we define:\n",
    "\n",
    "$b = max_{z_t} a_{z_t}$\n",
    "\n",
    "We can then write:\n",
    "\n",
    "$$\\log(\\alpha_t(z_t)) = \\log \\bigg( \\exp \\{b \\} \\sum_{z_t} \\exp \\{a_{z_t} - b \\} \\bigg)$$\n",
    "$$= b + \\log \\bigg( \\sum_{z_t} \\exp \\{a_{z_t} - b \\} \\bigg)$$\n",
    "\n",
    "The source can be found here: [Source](https://hips.seas.harvard.edu/blog/2013/01/09/computing-log-sum-exp/)\n",
    "\n",
    "\n",
    "We will use the scaling coefficient trick to avoid underflow. Explained in the [Rabiner paper](http://www.ece.ucsb.edu/Faculty/Rabiner/ece259/Reprints/tutorial%20on%20hmm%20and%20applications.pdf) we will compute the following scaling coefficient at every time step in the forward algorithm:\n",
    "\n",
    "$c_t = \\frac{1}{\\sum_{i = 1}^K  \\alpha_t(i)}$\n",
    "\n",
    "and we have the following scaled $\\alpha$'s:\n",
    "\n",
    "$\\tilde{\\alpha_t(i)} = \\frac{\\alpha_t(i)}{\\sum_{i = 1}^K  \\alpha_t(i)} = \\frac{\\alpha_t(i)}{c_t} $"
   ]
  },
  {
   "cell_type": "code",
   "execution_count": 141,
   "metadata": {
    "collapsed": false
   },
   "outputs": [],
   "source": [
    "def alpha(A, pi, data, cov_matrices, state_means, n_states=4):\n",
    "    #We start by taking the log of all the probabilities\n",
    "    log_A = np.log(A)\n",
    "    log_pi = np.log(pi)\n",
    "    log_probs = np.log(mv_gauss_state(data, state_means, cov_matrices))\n",
    "    T = log_probs.shape[0]\n",
    "    \n",
    "    # Matrix that will hold the alpha values \n",
    "    # for each time step for each state value\n",
    "    # every row will hold a vector of alpha(z_t)\n",
    "    log_alpha = np.zeros((T, n_states))\n",
    "    \n",
    "    #Initialisation\n",
    "    log_alpha[0, :] = log_pi + log_probs[0]\n",
    "        \n",
    "    for t in xrange(1, T):\n",
    "        a = log_probs[t, :] + log_A + log_alpha[t-1, :].reshape(n_states, 1)\n",
    "        b = np.amax(a, axis=0)\n",
    "        log_alpha[t, :] = logsumexp(a, axis=0)\n",
    "        \n",
    "    return np.exp(log_alpha)\n",
    "    \n",
    "\n",
    "def beta(A, data, cov_matrices, state_means, n_states=4):\n",
    "    #We start by taking the log of all the probabilities\n",
    "    log_A = np.log(A)\n",
    "    log_probs = np.log(mv_gauss_state(data, state_means, cov_matrices))\n",
    "    T = log_probs.shape[0]\n",
    "    \n",
    "    # Matrix that will hold the alpha values for each time step for each state value\n",
    "    # every row will hold a vector of alpha(z_t)\n",
    "    log_beta = np.zeros((T, n_states))\n",
    "    \n",
    "    #Initialisation\n",
    "    log_beta[T-1, :] = 1\n",
    "        \n",
    "    for t in reversed(xrange(T-1)):\n",
    "        a = log_probs[t, :].reshape(n_states, 1) + log_A.T + log_beta[t+1, :].reshape(n_states, 1)\n",
    "        b = np.amax(a, axis=0)\n",
    "        log_beta[t, :] = logsumexp(a, axis=0)\n",
    "    \n",
    "    return log_beta\n",
    "\n",
    "def forward(A, pi, data, cov_matrices, state_means, n_states=4):\n",
    "    T = data.shape[0]\n",
    "    probs = mv_gauss_state(data, state_means, cov_matrices)    \n",
    "    alpha = np.zeros((T, n_states))\n",
    "    c = np.ones(T)\n",
    "\n",
    "    # Initialization\n",
    "    alpha[0, :] = pi * probs[0]\n",
    "    c[0] = np.sum(alpha[0])\n",
    "\n",
    "    # Scaling (avoid underflow)\n",
    "    c[0] = 1/c[0]\n",
    "    alpha[0] *= c[0]\n",
    "\n",
    "    # Recursive computation of alpha\n",
    "    for t in range(1, T):\n",
    "        alpha[t, :] = probs[t, :] * A.dot(alpha[t-1,:])\n",
    "        c[t] = np.sum(alpha[t])\n",
    "        \n",
    "        # scaling\n",
    "        c[t] = 1/c[t]\n",
    "        alpha[t] *= c[t]\n",
    "            \n",
    "    return alpha, c\n",
    "\n",
    "def backward(A, data, cov_matrices, state_means, scale_coeff, n_states=4):\n",
    "    T = data.shape[0]\n",
    "    probs = mv_gauss_state(data, state_means, cov_matrices)    \n",
    "    beta = np.zeros((T, n_states))\n",
    "\n",
    "    # Initialization\n",
    "    beta[T-1, :] = 1\n",
    "\n",
    "    # Scaling (avoid underflow)\n",
    "    #beta[T-1] *= scale_coeff[T-1]\n",
    "\n",
    "    # Recursive computation of alpha\n",
    "    for t in reversed(xrange(T-1)):\n",
    "        beta[t, :] = A.T.dot(probs[t+1] * beta[t+1])\n",
    "        # Scaling\n",
    "        beta[t] *= scale_coeff[t+1]\n",
    "    \n",
    "    return beta"
   ]
  },
  {
   "cell_type": "markdown",
   "metadata": {},
   "source": [
    "# Fake parameter inference"
   ]
  },
  {
   "cell_type": "code",
   "execution_count": 142,
   "metadata": {
    "collapsed": false
   },
   "outputs": [],
   "source": [
    "cov_1 = np.array([[ 2.90442381,  0.20655763],\n",
    "                  [ 0.20655763,  2.75617077]])\n",
    "cov_2 = np.array([[  0.21035667,   0.29045085],\n",
    "                  [  0.29045085,  12.23996609]])\n",
    "cov_3 = np.array([[ 0.92127927,  0.0573808 ],\n",
    "                  [ 0.0573808 ,  1.86586017]])\n",
    "cov_4 = np.array([[ 6.24140909,  6.05017464],\n",
    "                  [ 6.05017464,  6.18245528]])\n",
    "\n",
    "mu_1 = np.array([-2.03436695,  4.17258596])\n",
    "mu_2 = np.array([ 3.97793025,  3.77333059])\n",
    "mu_3 = np.array([ 3.80070949, -3.79729742])\n",
    "mu_4 = np.array([-3.06196072, -3.53454048])\n",
    "\n",
    "\n",
    "covs = [cov_1, cov_2, cov_3, cov_4]\n",
    "means = [mu_1, mu_2, mu_3, mu_4]\n",
    "\n",
    "A = np.ones((4,4)) * 1/4\n",
    "np.fill_diagonal(A, 1/6)\n",
    "pi = np.ones(4) * 1/4"
   ]
  },
  {
   "cell_type": "code",
   "execution_count": 143,
   "metadata": {
    "collapsed": false
   },
   "outputs": [],
   "source": [
    "alphas, c = forward(A, pi, train_data, covs, means)\n",
    "betas = backward(A, train_data, covs, means, c)"
   ]
  },
  {
   "cell_type": "code",
   "execution_count": 152,
   "metadata": {
    "collapsed": false
   },
   "outputs": [],
   "source": [
    "posterior = alphas * betas"
   ]
  },
  {
   "cell_type": "code",
   "execution_count": 162,
   "metadata": {
    "collapsed": false
   },
   "outputs": [
    {
     "data": {
      "image/png": "[encoded data removed]",
      "text/plain": [
       "<matplotlib.figure.Figure at 0x7f13bde5f610>"
      ]
     },
     "metadata": {},
     "output_type": "display_data"
    }
   ],
   "source": [
    "f, axarr = plt.subplots(4, sharex=True)\n",
    "axarr[0].plot(np.arange(0,100), posterior[:100, 0])\n",
    "axarr[0].set_title('Posterior probabilities for each class')\n",
    "axarr[1].plot(np.arange(0,100), posterior[:100, 1])\n",
    "axarr[2].plot(np.arange(0,100), posterior[:100, 2])\n",
    "axarr[3].plot(np.arange(0,100), posterior[:100, 3])\n",
    "\n",
    "plt.show()"
   ]
  },
  {
   "cell_type": "code",
   "execution_count": 6,
   "metadata": {
    "collapsed": true
   },
   "outputs": [],
   "source": [
    "# Credit to: \n",
    "# http://www.nhsilbert.net/source/2014/06/bivariate-normal-ellipse-plotting-in-python/\n",
    "def plot_cov_ellipse(cov, pos, volume=.5, ax=None, fc='none', ec=[0,0,0], a=1, lw=1):\n",
    "    \"\"\"\n",
    "    Plots an ellipse enclosing *volume* based on the specified covariance\n",
    "    matrix (*cov*) and location (*pos*). Additional keyword arguments are passed on to the \n",
    "    ellipse patch artist.\n",
    "\n",
    "    Parameters\n",
    "    ----------\n",
    "        cov : The 2x2 covariance matrix to base the ellipse on\n",
    "        pos : The location of the center of the ellipse. Expects a 2-element\n",
    "            sequence of [x0, y0].\n",
    "        volume : The volume inside the ellipse; defaults to 0.5\n",
    "        ax : The axis that the ellipse will be plotted on. Defaults to the \n",
    "            current axis.\n",
    "    \"\"\"\n",
    "\n",
    "    def eigsorted(cov):\n",
    "        vals, vecs = np.linalg.eigh(cov)\n",
    "        order = vals.argsort()[::-1]\n",
    "        return vals[order], vecs[:,order]\n",
    "\n",
    "    if ax is None:\n",
    "        ax = plt.gca()\n",
    "\n",
    "    vals, vecs = eigsorted(cov)\n",
    "    theta = np.degrees(np.arctan2(*vecs[:,0][::-1]))\n",
    "\n",
    "    kwrg = {'facecolor':fc, 'edgecolor':ec, 'alpha':a, 'linewidth':lw}\n",
    "\n",
    "    # Width and height are \"full\" widths, not radius\n",
    "    width, height = 2 * np.sqrt(chi2.ppf(volume,2)) * np.sqrt(vals)\n",
    "    ellip = Ellipse(xy=pos, width=width, height=height, angle=theta, **kwrg)\n",
    "\n",
    "    ax.add_artist(ellip)"
   ]
  },
  {
   "cell_type": "markdown",
   "metadata": {},
   "source": [
    "### Implementation of the K-means algorithm"
   ]
  },
  {
   "cell_type": "code",
   "execution_count": 7,
   "metadata": {
    "collapsed": false
   },
   "outputs": [],
   "source": [
    "class K_means:\n",
    "    \n",
    "    def __init__(self, k=4, n_dims=2):\n",
    "        self.k = k\n",
    "        self.n_dims = n_dims\n",
    "        \n",
    "    def train(self, train_data):\n",
    "        # Initialize the cluster means\n",
    "        self.means = np.random.rand(self.k, self.n_dims) * np.max(train_data, axis=0)\n",
    "        n_iter = 0\n",
    "        \n",
    "        # Matrix where each row is a z_n assignment vector associated with a data point\n",
    "        old_Z = np.zeros(shape=(train_data.shape[0], self.k))\n",
    "        self.Z = np.zeros(shape=(train_data.shape[0], self.k))\n",
    "        \n",
    "        while(not self._converged(old_Z, n_iter)):\n",
    "            old_Z = np.array(self.Z)\n",
    "            self.Z = np.zeros(shape=(train_data.shape[0], self.k))\n",
    "            \n",
    "            # First phase, we evaluate the value of the latent cluster assignment variables\n",
    "            for i, train_point in enumerate(train_data):                \n",
    "                distances = np.linalg.norm(self.means - train_point, axis=1)**2\n",
    "                self.Z[i][np.argmin(distances)] = 1 \n",
    "            \n",
    "            # Second phase, the values of the cluster means are computed\n",
    "            self.means = self.Z.T.dot(train_data) / np.sum(self.Z.T, axis=1).reshape(self.k, 1)\n",
    "            \n",
    "            n_iter += 1\n",
    "        \n",
    "    def assign_cluster(self, data):\n",
    "        \n",
    "        # Will hold the cluster that each data point belongs to\n",
    "        clusters = np.zeros(data.shape[0], dtype=int)\n",
    "        \n",
    "        for i, x in enumerate(data):            \n",
    "            distances = np.linalg.norm(self.means - x, axis=1)**2\n",
    "            clusters[i] = np.argmin(distances)\n",
    "        \n",
    "        return clusters\n",
    "            \n",
    "    \n",
    "    # Helper function that checks the convergence of the K-means algorithm\n",
    "    def _converged(self, old_Z, n_iter):\n",
    "        if n_iter == 0:\n",
    "            return False\n",
    "        elif np.array_equal(old_Z, self.Z):\n",
    "            return True\n",
    "        else:\n",
    "            return False"
   ]
  },
  {
   "cell_type": "markdown",
   "metadata": {},
   "source": [
    "# EM algorithm to learn parameters of the model"
   ]
  },
  {
   "cell_type": "code",
   "execution_count": 8,
   "metadata": {
    "collapsed": false
   },
   "outputs": [],
   "source": [
    "class EM_HMM:\n",
    "    \n",
    "    def __init__(self, k=4, n_dims=2):\n",
    "        self.k = k\n",
    "        self.n_dims = n_dims\n",
    "        \n",
    "    def train(self, train_data, means, clusters, MAX_ITER = 100):\n",
    "        # We start off by initializing our gaussian mixture parameters with the parameters given to us\n",
    "        self.means = means\n",
    "        self.covs = [np.eye(self.n_dims)] * self.k\n",
    "        \n",
    "        # compute the sample covariance of each cluster\n",
    "        for i in xrange(self.k):\n",
    "            self.covs[i] = np.cov(train_data[np.where(clusters==i)[0],:], rowvar=False) \n",
    "\n",
    "        # posterior probabilities or the weights N x K matrix\n",
    "        self.taus = np.zeros(shape=(train_data.shape[0], self.k))\n",
    "        self.pi = np.bincount(clusters) / clusters.shape[0]        \n",
    "        n_iter = 0\n",
    "        \n",
    "        while(n_iter < MAX_ITER):            \n",
    "            # E step\n",
    "            for i in xrange(self.k):\n",
    "                self.taus[:, i] = self.pi[i] * mv_normal.pdf(train_data, self.means[i], self.covs[i], True)\n",
    "            \n",
    "            # normalize the taus to get posterior probabilities\n",
    "            self.taus = (self.taus.T / np.sum(self.taus, axis=1)).T\n",
    "            \n",
    "            # M step            \n",
    "            # Compute the new means and covariance matrices\n",
    "            for i in xrange(self.k):\n",
    "                tau_sum = np.sum(self.taus[:, i])\n",
    "                \n",
    "                # First the mean for cluster i\n",
    "                self.means[i] = (np.sum(self.taus[:, i].reshape(self.taus.shape[0], 1) * train_data, axis=0) / tau_sum)\n",
    "                \n",
    "                distance = train_data - self.means[i]\n",
    "                self.covs[i] = (distance.T.dot(self.taus[:, i].reshape(self.taus.shape[0], 1) * distance) / tau_sum)\n",
    "                self.pi[i] = tau_sum / train_data.shape[0]\n",
    "\n",
    "                n_iter += 1\n",
    "    \n",
    "    def assign_cluster(self, data):\n",
    "        taus = np.zeros(shape=(data.shape[0], self.k))\n",
    "        for i in xrange(self.k):\n",
    "                taus[:, i] = self.pi[i] * mv_normal.pdf(data, self.means[i], self.covs[i], True)\n",
    "                \n",
    "        clusters = np.zeros(data.shape[0], dtype=int)\n",
    "        for i, x in enumerate(data):\n",
    "            clusters[i] = np.argmax(taus[i, :])\n",
    "        return clusters\n",
    "    \n",
    "    def normalized_log_likelihood(self, data):\n",
    "        like = np.zeros(shape=(data.shape[0], self.k))\n",
    "        for i in xrange(self.k):\n",
    "                like[:, i] = self.pi[i] * mv_normal.pdf(data, self.means[i], self.covs[i], True)\n",
    "        \n",
    "        loglike = np.log(np.sum(like, axis=1))\n",
    "        loglike = np.sum(loglike) / data.shape[0]\n",
    "        \n",
    "        return loglike\n",
    "                "
   ]
  },
  {
   "cell_type": "code",
   "execution_count": 9,
   "metadata": {
    "collapsed": true
   },
   "outputs": [],
   "source": [
    "kmeans = K_means(k=4)\n",
    "kmeans.train(train_data)\n",
    "means = kmeans.means\n",
    "clusters = kmeans.assign_cluster(train_data)\n",
    "\n",
    "gmm = EM_GMM(k=4)\n",
    "gmm.train(train_data, means, clusters, MAX_ITER=2000)"
   ]
  },
  {
   "cell_type": "code",
   "execution_count": 13,
   "metadata": {
    "collapsed": false
   },
   "outputs": [
    {
     "data": {
      "text/plain": [
       "array([[ 3.97793025,  3.77333059],\n",
       "       [-3.06196072, -3.53454048],\n",
       "       [-2.03436695,  4.17258596],\n",
       "       [ 3.80070949, -3.79729742]])"
      ]
     },
     "execution_count": 13,
     "metadata": {},
     "output_type": "execute_result"
    }
   ],
   "source": [
    "gmm.means"
   ]
  },
  {
   "cell_type": "markdown",
   "metadata": {
    "collapsed": true
   },
   "source": [
    "# Viterbi decoding algorithm"
   ]
  },
  {
   "cell_type": "code",
   "execution_count": null,
   "metadata": {
    "collapsed": true
   },
   "outputs": [],
   "source": []
  }
 ],
 "metadata": {
  "kernelspec": {
   "display_name": "Python 2",
   "language": "python",
   "name": "python2"
  },
  "language_info": {
   "codemirror_mode": {
    "name": "ipython",
    "version": 2
   },
   "file_extension": ".py",
   "mimetype": "text/x-python",
   "name": "python",
   "nbconvert_exporter": "python",
   "pygments_lexer": "ipython2",
   "version": "2.7.12"
  }
 },
 "nbformat": 4,
 "nbformat_minor": 1
}
